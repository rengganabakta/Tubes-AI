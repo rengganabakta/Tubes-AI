{
 "cells": [
  {
   "cell_type": "markdown",
   "metadata": {},
   "source": [
    "## KECERDASAN BUATAN\n",
    "\n",
    "#### Nama Kelompok\n",
    "I Gede Arengga Nabakta ( 1203220108 ),\n",
    "Mahendra Pratama Hartawan Putra ( 1203222078 ),\n",
    "Daniswara Aryasatya F.F ( 1203220066 )\n"
   ]
  },
  {
   "cell_type": "code",
   "execution_count": 2,
   "metadata": {},
   "outputs": [],
   "source": [
    "import matplotlib\n",
    "import numpy\n",
    "import pandas as pd"
   ]
  },
  {
   "cell_type": "code",
   "execution_count": 3,
   "metadata": {},
   "outputs": [
    {
     "data": {
      "text/html": [
       "<div>\n",
       "<style scoped>\n",
       "    .dataframe tbody tr th:only-of-type {\n",
       "        vertical-align: middle;\n",
       "    }\n",
       "\n",
       "    .dataframe tbody tr th {\n",
       "        vertical-align: top;\n",
       "    }\n",
       "\n",
       "    .dataframe thead th {\n",
       "        text-align: right;\n",
       "    }\n",
       "</style>\n",
       "<table border=\"1\" class=\"dataframe\">\n",
       "  <thead>\n",
       "    <tr style=\"text-align: right;\">\n",
       "      <th></th>\n",
       "      <th>No</th>\n",
       "      <th>Item Name</th>\n",
       "      <th>Item Code</th>\n",
       "      <th>Category Name</th>\n",
       "      <th>Loss Rate (%) per item</th>\n",
       "      <th>total Quantity Sold (kilo) in 3 years</th>\n",
       "      <th>average prize per kilo</th>\n",
       "      <th>prize in 3 years</th>\n",
       "      <th>laris atau tidak</th>\n",
       "    </tr>\n",
       "  </thead>\n",
       "  <tbody>\n",
       "    <tr>\n",
       "      <th>0</th>\n",
       "      <td>1</td>\n",
       "      <td>Niushou Shengcai</td>\n",
       "      <td>1.030000e+14</td>\n",
       "      <td>Flower/Leaf Vegetables</td>\n",
       "      <td>4.39</td>\n",
       "      <td>899.84</td>\n",
       "      <td>2.37</td>\n",
       "      <td>2,128.86</td>\n",
       "      <td>laris</td>\n",
       "    </tr>\n",
       "    <tr>\n",
       "      <th>1</th>\n",
       "      <td>2</td>\n",
       "      <td>Sichuan Red Cedar</td>\n",
       "      <td>1.030000e+14</td>\n",
       "      <td>Flower/Leaf Vegetables</td>\n",
       "      <td>10.46</td>\n",
       "      <td>333.22</td>\n",
       "      <td>25.98</td>\n",
       "      <td>8,656.12</td>\n",
       "      <td>laris</td>\n",
       "    </tr>\n",
       "    <tr>\n",
       "      <th>2</th>\n",
       "      <td>3</td>\n",
       "      <td>Local Xiaomao Cabbage</td>\n",
       "      <td>1.030000e+14</td>\n",
       "      <td>Flower/Leaf Vegetables</td>\n",
       "      <td>0.18</td>\n",
       "      <td>121.02</td>\n",
       "      <td>3.14</td>\n",
       "      <td>379.88</td>\n",
       "      <td>laris</td>\n",
       "    </tr>\n",
       "    <tr>\n",
       "      <th>3</th>\n",
       "      <td>4</td>\n",
       "      <td>White Caitai</td>\n",
       "      <td>1.030000e+14</td>\n",
       "      <td>Flower/Leaf Vegetables</td>\n",
       "      <td>8.78</td>\n",
       "      <td>718.68</td>\n",
       "      <td>2.65</td>\n",
       "      <td>1,904.79</td>\n",
       "      <td>tidak</td>\n",
       "    </tr>\n",
       "    <tr>\n",
       "      <th>4</th>\n",
       "      <td>5</td>\n",
       "      <td>Amaranth</td>\n",
       "      <td>1.030000e+14</td>\n",
       "      <td>Flower/Leaf Vegetables</td>\n",
       "      <td>18.52</td>\n",
       "      <td>5100.06</td>\n",
       "      <td>4.08</td>\n",
       "      <td>20,790.02</td>\n",
       "      <td>laris</td>\n",
       "    </tr>\n",
       "  </tbody>\n",
       "</table>\n",
       "</div>"
      ],
      "text/plain": [
       "   No              Item Name     Item Code           Category Name  \\\n",
       "0   1       Niushou Shengcai  1.030000e+14  Flower/Leaf Vegetables   \n",
       "1   2      Sichuan Red Cedar  1.030000e+14  Flower/Leaf Vegetables   \n",
       "2   3  Local Xiaomao Cabbage  1.030000e+14  Flower/Leaf Vegetables   \n",
       "3   4           White Caitai  1.030000e+14  Flower/Leaf Vegetables   \n",
       "4   5               Amaranth  1.030000e+14  Flower/Leaf Vegetables   \n",
       "\n",
       "   Loss Rate (%) per item  total Quantity Sold (kilo) in 3 years  \\\n",
       "0                    4.39                                 899.84   \n",
       "1                   10.46                                 333.22   \n",
       "2                    0.18                                 121.02   \n",
       "3                    8.78                                 718.68   \n",
       "4                   18.52                                5100.06   \n",
       "\n",
       "   average prize per kilo prize in 3 years laris atau tidak  \n",
       "0                    2.37         2,128.86            laris  \n",
       "1                   25.98         8,656.12            laris  \n",
       "2                    3.14           379.88            laris  \n",
       "3                    2.65         1,904.79            tidak  \n",
       "4                    4.08        20,790.02            laris  "
      ]
     },
     "execution_count": 3,
     "metadata": {},
     "output_type": "execute_result"
    }
   ],
   "source": [
    "data = pd.read_csv(\"dataAI.csv\")\n",
    "\n",
    "data.head()"
   ]
  },
  {
   "cell_type": "markdown",
   "metadata": {},
   "source": [
    "## Mencari Entropy"
   ]
  },
  {
   "cell_type": "markdown",
   "metadata": {},
   "source": [
    "##### Mencari Entropi dari categori name"
   ]
  },
  {
   "cell_type": "markdown",
   "metadata": {},
   "source": [
    "##### Mencari Entropi dari Loss rate (%)"
   ]
  },
  {
   "cell_type": "markdown",
   "metadata": {},
   "source": [
    "##### Mencari Entropi dari Quuantity\n"
   ]
  },
  {
   "cell_type": "markdown",
   "metadata": {},
   "source": [
    "##### Mencari Entropi dari average prize"
   ]
  },
  {
   "cell_type": "markdown",
   "metadata": {},
   "source": [
    "##### Mencari Entropi dari Laris Tidak\n"
   ]
  },
  {
   "cell_type": "markdown",
   "metadata": {},
   "source": [
    "## Mencari Information gain\n"
   ]
  },
  {
   "cell_type": "markdown",
   "metadata": {},
   "source": []
  }
 ],
 "metadata": {
  "kernelspec": {
   "display_name": "Python 3",
   "language": "python",
   "name": "python3"
  },
  "language_info": {
   "codemirror_mode": {
    "name": "ipython",
    "version": 3
   },
   "file_extension": ".py",
   "mimetype": "text/x-python",
   "name": "python",
   "nbconvert_exporter": "python",
   "pygments_lexer": "ipython3",
   "version": "3.12.0"
  }
 },
 "nbformat": 4,
 "nbformat_minor": 2
}
